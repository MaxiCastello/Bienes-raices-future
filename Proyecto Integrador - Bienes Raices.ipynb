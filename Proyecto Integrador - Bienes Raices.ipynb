{
 "cells": [
  {
   "cell_type": "code",
   "execution_count": 1,
   "id": "0f703987",
   "metadata": {},
   "outputs": [
    {
     "name": "stdout",
     "output_type": "stream",
     "text": [
      "Requirement already satisfied: mysql-connector-python in c:\\users\\gorix\\anaconda3\\lib\\site-packages (9.0.0)\n",
      "Note: you may need to restart the kernel to use updated packages.\n"
     ]
    }
   ],
   "source": [
    "pip install mysql-connector-python"
   ]
  },
  {
   "cell_type": "code",
   "execution_count": 1,
   "id": "ec2e39fe",
   "metadata": {},
   "outputs": [],
   "source": [
    "import mysql.connector\n",
    "import pandas as pd"
   ]
  },
  {
   "cell_type": "code",
   "execution_count": 2,
   "id": "08eaa425",
   "metadata": {},
   "outputs": [],
   "source": [
    "#Conexión a la base de datos local\n",
    "def crear_conexion():\n",
    "    return mysql.connector.connect(\n",
    "    host=\"localhost\",\n",
    "    user=\"root\",\n",
    "    password=\"Maxi1\",\n",
    "    database=\"Bienes_raices\"\n",
    ")"
   ]
  },
  {
   "cell_type": "markdown",
   "id": "35d5cb61",
   "metadata": {},
   "source": [
    "**CRUD**"
   ]
  },
  {
   "cell_type": "code",
   "execution_count": 3,
   "id": "7719954d",
   "metadata": {},
   "outputs": [],
   "source": [
    "#Crear propietario para luego crear una propiedad \n",
    "def crear_propietario(nombre, direccion, contacto):\n",
    "    conexion = crear_conexion()\n",
    "    cursor = conexion.cursor()\n",
    "    sql = \"INSERT INTO Propietario (Nombre, Direccion, Contacto) VALUES (%s, %s, %s)\"\n",
    "    cursor.execute(sql, (nombre, direccion, contacto))\n",
    "    conexion.commit()\n",
    "    \n",
    "    # Se obtiene id del propietario\n",
    "    id_propietario = cursor.lastrowid\n",
    "    \n",
    "    cursor.close()\n",
    "    conexion.close()\n",
    "    return id_propietario"
   ]
  },
  {
   "cell_type": "code",
   "execution_count": 4,
   "id": "d8f1818d",
   "metadata": {},
   "outputs": [],
   "source": [
    "def ingresar_propiedad(tipo, estado, operativa, nombre_propietario, direccion_propietario, contacto_propietario, nombre_propiedad, direccion_propiedad, contacto_propiedad):\n",
    "\n",
    "    id_propietario = crear_propietario(nombre_propietario, direccion_propietario, contacto_propietario)\n",
    "    \n",
    "    #Conexion a la base de datos\n",
    "    conexion = crear_conexion()\n",
    "    cursor = conexion.cursor()\n",
    "    \n",
    "    #consulta para ingresar la propiedad\n",
    "    sql = \"\"\"\n",
    "    INSERT INTO Propiedad (Id_Tipo, Id_Estado, Id_Operatoria_Comercial, Id_Propietario, Nombre, Direccion, Contacto) \n",
    "    VALUES (%s, %s, %s, %s, %s, %s, %s)\n",
    "    \"\"\"\n",
    "    valores = (tipo, estado, operativa, id_propietario, nombre_propiedad, direccion_propiedad, contacto_propiedad)\n",
    "    \n",
    "    cursor.execute(sql, valores)\n",
    "    conexion.commit()\n",
    "    \n",
    "    cursor.close()\n",
    "    conexion.close()\n",
    "    print(\"Propiedad ingresada exitosamente con nuevo propietario.\")"
   ]
  },
  {
   "cell_type": "code",
   "execution_count": 5,
   "id": "d26265de",
   "metadata": {},
   "outputs": [],
   "source": [
    "def modificar_propiedad(id_propiedad, id_tipo=None, id_estado=None, id_operatoria_comercial=None, id_propietario=None, nombre=None, direccion=None, contacto=None):\n",
    "    conexion = crear_conexion()\n",
    "    cursor = conexion.cursor()\n",
    "    sql = \"UPDATE Propiedad SET\"\n",
    "    valores = []\n",
    "\n",
    "    \n",
    "    if id_tipo is not None:\n",
    "        sql += \" Id_Tipo = %s,\"\n",
    "        valores.append(id_tipo)\n",
    "    if id_estado is not None:\n",
    "        sql += \" Id_Estado = %s,\"\n",
    "        valores.append(id_estado)\n",
    "    if id_operatoria_comercial is not None:\n",
    "        sql += \" Id_Operatoria_Comercial = %s,\"\n",
    "        valores.append(id_operatoria_comercial)\n",
    "    if id_propietario is not None:\n",
    "        sql += \" Id_Propietario = %s,\"\n",
    "        valores.append(id_propietario)\n",
    "    if nombre is not None:\n",
    "        sql += \" Nombre = %s,\"\n",
    "        valores.append(nombre)\n",
    "    if direccion is not None:\n",
    "        sql += \" Direccion = %s,\"\n",
    "        valores.append(direccion)\n",
    "    if contacto is not None:\n",
    "        sql += \" Contacto = %s,\"\n",
    "        valores.append(contacto)\n",
    "\n",
    "    #Se elimina la última coma y se agrega la condición WHERE.\n",
    "    sql = sql.rstrip(',') + \" WHERE Id_Propiedad = %s\"\n",
    "    valores.append(id_propiedad)\n",
    "\n",
    "    cursor.execute(sql, valores)\n",
    "    conexion.commit()\n",
    "    cursor.close()\n",
    "    conexion.close()\n",
    "    print(f\"Propiedad {id_propiedad} modificada exitosamente.\")"
   ]
  },
  {
   "cell_type": "code",
   "execution_count": 6,
   "id": "06fccec9",
   "metadata": {},
   "outputs": [],
   "source": [
    "#Eliminar una propiedad\n",
    "def eliminar_propiedad(id_propiedad):\n",
    "    conexion = crear_conexion()\n",
    "    cursor = conexion.cursor()\n",
    "    sql = \"DELETE FROM Propiedad WHERE Id_Propiedad = %s\"\n",
    "    cursor.execute(sql, (id_propiedad,))\n",
    "    conexion.commit()\n",
    "    cursor.close()\n",
    "    conexion.close()\n",
    "    print(f\"Propiedad {id_propiedad} eliminada exitosamente.\")"
   ]
  },
  {
   "cell_type": "markdown",
   "id": "ca83eafd",
   "metadata": {},
   "source": [
    "**Reportes**"
   ]
  },
  {
   "cell_type": "code",
   "execution_count": 7,
   "id": "8088a23c",
   "metadata": {},
   "outputs": [],
   "source": [
    "#Propiedades Totales\n",
    "def listar_propiedades_totales():\n",
    "    conexion = crear_conexion()\n",
    "    sql = \"\"\"\n",
    "    SELECT p.*, t.Nombre_Tipo, e.Nombre_Estado, o.Nombre_Operatoria_Comercial \n",
    "    FROM Propiedad p\n",
    "    JOIN Tipo t ON p.Id_Tipo = t.Id_Tipo\n",
    "    JOIN Estado e ON p.Id_Estado = e.Id_Estado\n",
    "    JOIN OperatoriaComercial o ON p.Id_Operatoria_Comercial = o.Id_Operatoria_Comercial\n",
    "    \"\"\"\n",
    "    df = pd.read_sql(sql, conexion)\n",
    "    conexion.close()\n",
    "    return df"
   ]
  },
  {
   "cell_type": "code",
   "execution_count": 8,
   "id": "9dadbe58",
   "metadata": {},
   "outputs": [],
   "source": [
    "#Propiedades Disponibles para la Venta\n",
    "def listar_propiedades_disponibles_venta():\n",
    "    conexion = crear_conexion()\n",
    "    sql = \"\"\"\n",
    "    SELECT p.*, t.Nombre_Tipo, e.Nombre_Estado, o.Nombre_Operatoria_Comercial \n",
    "    FROM Propiedad p\n",
    "    JOIN Tipo t ON p.Id_Tipo = t.Id_Tipo\n",
    "    JOIN Estado e ON p.Id_Estado = e.Id_Estado\n",
    "    JOIN OperatoriaComercial o ON p.Id_Operatoria_Comercial = o.Id_Operatoria_Comercial\n",
    "    WHERE e.Nombre_Estado = 'Disponible' AND o.Nombre_Operatoria_Comercial = 'Venta'\n",
    "    \"\"\"\n",
    "    df = pd.read_sql(sql, conexion)\n",
    "    conexion.close()\n",
    "    return df"
   ]
  },
  {
   "cell_type": "code",
   "execution_count": 9,
   "id": "e866619f",
   "metadata": {},
   "outputs": [],
   "source": [
    "#Propiedades Disponibles para Alquiler\n",
    "def listar_propiedades_disponibles_alquiler():\n",
    "    conexion = crear_conexion()\n",
    "    sql = \"\"\"\n",
    "    SELECT p.*, t.Nombre_Tipo, e.Nombre_Estado, o.Nombre_Operatoria_Comercial \n",
    "    FROM Propiedad p\n",
    "    JOIN Tipo t ON p.Id_Tipo = t.Id_Tipo\n",
    "    JOIN Estado e ON p.Id_Estado = e.Id_Estado\n",
    "    JOIN OperatoriaComercial o ON p.Id_Operatoria_Comercial = o.Id_Operatoria_Comercial\n",
    "    WHERE e.Nombre_Estado = 'Disponible' AND o.Nombre_Operatoria_Comercial = 'Alquiler'\n",
    "    \"\"\"\n",
    "    df = pd.read_sql(sql, conexion)\n",
    "    conexion.close()\n",
    "    return df"
   ]
  },
  {
   "cell_type": "code",
   "execution_count": 10,
   "id": "23ce5de8",
   "metadata": {},
   "outputs": [],
   "source": [
    "#Propiedades Vendidas\n",
    "def listar_propiedades_vendidas():\n",
    "    conexion = crear_conexion()\n",
    "    sql = \"\"\"\n",
    "    SELECT p.*, t.Nombre_Tipo, e.Nombre_Estado, o.Nombre_Operatoria_Comercial \n",
    "    FROM Propiedad p\n",
    "    JOIN Tipo t ON p.Id_Tipo = t.Id_Tipo\n",
    "    JOIN Estado e ON p.Id_Estado = e.Id_Estado\n",
    "    JOIN OperatoriaComercial o ON p.Id_Operatoria_Comercial = o.Id_Operatoria_Comercial\n",
    "    WHERE e.Nombre_Estado = 'Vendida'\n",
    "    \"\"\"\n",
    "    df = pd.read_sql(sql, conexion)\n",
    "    conexion.close()\n",
    "    return df"
   ]
  },
  {
   "cell_type": "code",
   "execution_count": 11,
   "id": "e118e2cf",
   "metadata": {},
   "outputs": [],
   "source": [
    "#Propiedades alquiladas\n",
    "def listar_propiedades_alquiladas():\n",
    "    conexion = crear_conexion()\n",
    "    sql = \"\"\"\n",
    "    SELECT p.*, t.Nombre_Tipo, e.Nombre_Estado, o.Nombre_Operatoria_Comercial \n",
    "    FROM Propiedad p\n",
    "    JOIN Tipo t ON p.Id_Tipo = t.Id_Tipo\n",
    "    JOIN Estado e ON p.Id_Estado = e.Id_Estado\n",
    "    JOIN OperatoriaComercial o ON p.Id_Operatoria_Comercial = o.Id_Operatoria_Comercial\n",
    "    WHERE e.Nombre_Estado = 'Alquilada'\n",
    "    \"\"\"\n",
    "    df = pd.read_sql(sql, conexion)\n",
    "    conexion.close()\n",
    "    return df"
   ]
  },
  {
   "cell_type": "markdown",
   "id": "42499893",
   "metadata": {},
   "source": [
    "**Uso de las Funciones**"
   ]
  },
  {
   "cell_type": "code",
   "execution_count": 12,
   "id": "a0d1d88f",
   "metadata": {
    "scrolled": true
   },
   "outputs": [
    {
     "name": "stdout",
     "output_type": "stream",
     "text": [
      "Listado de propiedades totales:\n",
      "   Id_Propiedad  Id_Tipo  Id_Estado  Id_Operatoria_Comercial  Id_Propietario  \\\n",
      "0             1        1          1                        1               1   \n",
      "1             2        1          1                        2               2   \n",
      "2             3        2          2                        3               3   \n",
      "3             4        2          1                        1               4   \n",
      "4             5        3          3                        3               5   \n",
      "5             6        1          1                        1               1   \n",
      "6             8        2          1                        1               6   \n",
      "\n",
      "                     Nombre        Direccion   Contacto   Nombre_Tipo  \\\n",
      "0           Casa a Estrenar     Alberdi 3364  485377855          Casa   \n",
      "1             Casa Amoblada    Necochea 2325  492178641          Casa   \n",
      "2  Departamento 2 Ambientes   Rivadavia 4350  478339652  Departamento   \n",
      "3              Monoambiente   Calchines 1722  432578965  Departamento   \n",
      "4          Penthouse Lujoso  9 de Julio 3572  445683969     Penthouse   \n",
      "5          Casa 3 ambientes     Cordoba 3347    4541797          Casa   \n",
      "6       Departamento Grande     Tucuman 3322  485365219  Departamento   \n",
      "\n",
      "  Nombre_Estado Nombre_Operatoria_Comercial  \n",
      "0    Disponible                       Venta  \n",
      "1    Disponible                    Alquiler  \n",
      "2       Vendida               No Disponible  \n",
      "3    Disponible                       Venta  \n",
      "4     Alquilada               No Disponible  \n",
      "5    Disponible                       Venta  \n",
      "6    Disponible                       Venta  \n"
     ]
    },
    {
     "name": "stderr",
     "output_type": "stream",
     "text": [
      "C:\\Users\\gorix\\AppData\\Local\\Temp\\ipykernel_16984\\42421165.py:11: UserWarning: pandas only supports SQLAlchemy connectable (engine/connection) or database string URI or sqlite3 DBAPI2 connection. Other DBAPI2 objects are not tested. Please consider using SQLAlchemy.\n",
      "  df = pd.read_sql(sql, conexion)\n"
     ]
    }
   ],
   "source": [
    "# Listar todas las propiedades\n",
    "propiedades_totales = listar_propiedades_totales()\n",
    "print(\"Listado de propiedades totales:\")\n",
    "print(propiedades_totales)"
   ]
  },
  {
   "cell_type": "code",
   "execution_count": 13,
   "id": "444ac6d0",
   "metadata": {
    "scrolled": true
   },
   "outputs": [
    {
     "name": "stdout",
     "output_type": "stream",
     "text": [
      "Listado de propiedades disponibles para la venta:\n",
      "   Id_Propiedad  Id_Tipo  Id_Estado  Id_Operatoria_Comercial  Id_Propietario  \\\n",
      "0             1        1          1                        1               1   \n",
      "1             4        2          1                        1               4   \n",
      "2             6        1          1                        1               1   \n",
      "3             8        2          1                        1               6   \n",
      "\n",
      "                Nombre       Direccion   Contacto   Nombre_Tipo Nombre_Estado  \\\n",
      "0      Casa a Estrenar    Alberdi 3364  485377855          Casa    Disponible   \n",
      "1         Monoambiente  Calchines 1722  432578965  Departamento    Disponible   \n",
      "2     Casa 3 ambientes    Cordoba 3347    4541797          Casa    Disponible   \n",
      "3  Departamento Grande    Tucuman 3322  485365219  Departamento    Disponible   \n",
      "\n",
      "  Nombre_Operatoria_Comercial  \n",
      "0                       Venta  \n",
      "1                       Venta  \n",
      "2                       Venta  \n",
      "3                       Venta  \n"
     ]
    },
    {
     "name": "stderr",
     "output_type": "stream",
     "text": [
      "C:\\Users\\gorix\\AppData\\Local\\Temp\\ipykernel_16984\\461388660.py:12: UserWarning: pandas only supports SQLAlchemy connectable (engine/connection) or database string URI or sqlite3 DBAPI2 connection. Other DBAPI2 objects are not tested. Please consider using SQLAlchemy.\n",
      "  df = pd.read_sql(sql, conexion)\n"
     ]
    }
   ],
   "source": [
    "# Listar propiedades disponibles para la venta\n",
    "propiedades_venta = listar_propiedades_disponibles_venta()\n",
    "print(\"Listado de propiedades disponibles para la venta:\")\n",
    "print(propiedades_venta)"
   ]
  },
  {
   "cell_type": "code",
   "execution_count": 14,
   "id": "7a7e479d",
   "metadata": {},
   "outputs": [
    {
     "name": "stdout",
     "output_type": "stream",
     "text": [
      "Listado de propiedades disponibles para alquiler:\n",
      "   Id_Propiedad  Id_Tipo  Id_Estado  Id_Operatoria_Comercial  Id_Propietario  \\\n",
      "0             2        1          1                        2               2   \n",
      "\n",
      "          Nombre      Direccion   Contacto Nombre_Tipo Nombre_Estado  \\\n",
      "0  Casa Amoblada  Necochea 2325  492178641        Casa    Disponible   \n",
      "\n",
      "  Nombre_Operatoria_Comercial  \n",
      "0                    Alquiler  \n"
     ]
    },
    {
     "name": "stderr",
     "output_type": "stream",
     "text": [
      "C:\\Users\\gorix\\AppData\\Local\\Temp\\ipykernel_16984\\2418656000.py:12: UserWarning: pandas only supports SQLAlchemy connectable (engine/connection) or database string URI or sqlite3 DBAPI2 connection. Other DBAPI2 objects are not tested. Please consider using SQLAlchemy.\n",
      "  df = pd.read_sql(sql, conexion)\n"
     ]
    }
   ],
   "source": [
    "# Listar propiedades disponibles para alquiler\n",
    "propiedades_alquiler = listar_propiedades_disponibles_alquiler()\n",
    "print(\"Listado de propiedades disponibles para alquiler:\")\n",
    "print(propiedades_alquiler)"
   ]
  },
  {
   "cell_type": "code",
   "execution_count": 15,
   "id": "bef73a07",
   "metadata": {
    "scrolled": true
   },
   "outputs": [
    {
     "name": "stdout",
     "output_type": "stream",
     "text": [
      "Listado de propiedades vendidas:\n",
      "   Id_Propiedad  Id_Tipo  Id_Estado  Id_Operatoria_Comercial  Id_Propietario  \\\n",
      "0             3        2          2                        3               3   \n",
      "\n",
      "                     Nombre       Direccion   Contacto   Nombre_Tipo  \\\n",
      "0  Departamento 2 Ambientes  Rivadavia 4350  478339652  Departamento   \n",
      "\n",
      "  Nombre_Estado Nombre_Operatoria_Comercial  \n",
      "0       Vendida               No Disponible  \n"
     ]
    },
    {
     "name": "stderr",
     "output_type": "stream",
     "text": [
      "C:\\Users\\gorix\\AppData\\Local\\Temp\\ipykernel_16984\\1061744667.py:12: UserWarning: pandas only supports SQLAlchemy connectable (engine/connection) or database string URI or sqlite3 DBAPI2 connection. Other DBAPI2 objects are not tested. Please consider using SQLAlchemy.\n",
      "  df = pd.read_sql(sql, conexion)\n"
     ]
    }
   ],
   "source": [
    "# Listar propiedades vendidas\n",
    "propiedades_vendidas = listar_propiedades_vendidas()\n",
    "print(\"Listado de propiedades vendidas:\")\n",
    "print(propiedades_vendidas)"
   ]
  },
  {
   "cell_type": "code",
   "execution_count": 15,
   "id": "c6290ef1",
   "metadata": {},
   "outputs": [
    {
     "name": "stdout",
     "output_type": "stream",
     "text": [
      "Listado de propiedades alquiladas:\n",
      "   Id_Propiedad  Id_Tipo  Id_Estado  Id_Operatoria_Comercial  Id_Propietario  \\\n",
      "0             5        3          3                        3               5   \n",
      "\n",
      "           Nombre        Direccion   Contacto Nombre_Tipo Nombre_Estado  \\\n",
      "0  Julian Alvarez  9 de Julio 3572  445683969   Penthouse     Alquilada   \n",
      "\n",
      "  Nombre_Operatoria_Comercial  \n",
      "0               No Disponible  \n"
     ]
    },
    {
     "name": "stderr",
     "output_type": "stream",
     "text": [
      "C:\\Users\\gorix\\AppData\\Local\\Temp\\ipykernel_18380\\2591256222.py:12: UserWarning: pandas only supports SQLAlchemy connectable (engine/connection) or database string URI or sqlite3 DBAPI2 connection. Other DBAPI2 objects are not tested. Please consider using SQLAlchemy.\n",
      "  df = pd.read_sql(sql, conexion)\n"
     ]
    }
   ],
   "source": [
    "# Listar propiedades alquiladas\n",
    "propiedades_alquiladas = listar_propiedades_alquiladas()\n",
    "print(\"Listado de propiedades alquiladas:\")\n",
    "print(propiedades_alquiladas)"
   ]
  },
  {
   "cell_type": "code",
   "execution_count": 22,
   "id": "47f4e678",
   "metadata": {},
   "outputs": [
    {
     "name": "stdout",
     "output_type": "stream",
     "text": [
      "Propiedad ingresada exitosamente con nuevo propietario.\n"
     ]
    }
   ],
   "source": [
    "if __name__ == \"__main__\": \n",
    "    # Ingresar una nueva propiedad y su propietario\n",
    "    ingresar_propiedad(\n",
    "        tipo=2,  # Id_Tipo (1-Casa, 2-Departamento, 3-Penthouse, 4-Country, 5-Local Comercial)\n",
    "        estado=1,  # Id_Estado (1-Disponible, 2- Vendida, 3- Alquilada)\n",
    "        operativa=1,  # Id_Operatoria_Comercial (1-Venta, 2- Alquiler, 3- No Disponible)\n",
    "        nombre_propietario='Tomas Castello',  # Nombre del propietario\n",
    "        direccion_propietario='Cordoba 3347',  # Dirección del propietario\n",
    "        contacto_propietario='4541231',  # Contacto del propietario\n",
    "        nombre_propiedad='Departamento Grande',  # Nombre de la propiedad\n",
    "        direccion_propiedad='Tucuman 3322',  # Dirección de la propiedad\n",
    "        contacto_propiedad='485365219'  # Contacto de la propiedad\n",
    "    )"
   ]
  },
  {
   "cell_type": "code",
   "execution_count": null,
   "id": "82327d0c",
   "metadata": {},
   "outputs": [],
   "source": [
    "#Modificar una propiedad\n",
    "    \n",
    "# Cambiar solo el nombre y la dirección\n",
    "modificar_propiedad(1, nombre='Casa Moderna Actualizada', direccion='Nueva Direccion 456')"
   ]
  },
  {
   "cell_type": "code",
   "execution_count": 14,
   "id": "495029e7",
   "metadata": {},
   "outputs": [
    {
     "name": "stdout",
     "output_type": "stream",
     "text": [
      "Propiedad 3 modificada exitosamente.\n"
     ]
    }
   ],
   "source": [
    "#Cambiar el estado de la propiedad\n",
    "modificar_propiedad(3, id_estado=2)"
   ]
  },
  {
   "cell_type": "code",
   "execution_count": null,
   "id": "5c27ff6b",
   "metadata": {},
   "outputs": [],
   "source": [
    "#Cambiar varios campos a la vez\n",
    "modificar_propiedad(1, id_estado=2, nombre='Casa Moderna Vendida', id_propietario=3)"
   ]
  },
  {
   "cell_type": "code",
   "execution_count": 17,
   "id": "61e9aeec",
   "metadata": {},
   "outputs": [
    {
     "name": "stdout",
     "output_type": "stream",
     "text": [
      "Propiedad 3 modificada exitosamente.\n"
     ]
    }
   ],
   "source": [
    "#Cambiar la operatoria comercial\n",
    "modificar_propiedad(3, id_operatoria_comercial=3)"
   ]
  },
  {
   "cell_type": "code",
   "execution_count": 28,
   "id": "176bed85",
   "metadata": {},
   "outputs": [
    {
     "name": "stdout",
     "output_type": "stream",
     "text": [
      "Propiedad 7 eliminada exitosamente.\n"
     ]
    }
   ],
   "source": [
    "#Eliminar Propiedad\n",
    "eliminar_propiedad(7) "
   ]
  },
  {
   "cell_type": "markdown",
   "id": "ea4bf09b",
   "metadata": {},
   "source": [
    "\n"
   ]
  }
 ],
 "metadata": {
  "kernelspec": {
   "display_name": "Python 3 (ipykernel)",
   "language": "python",
   "name": "python3"
  },
  "language_info": {
   "codemirror_mode": {
    "name": "ipython",
    "version": 3
   },
   "file_extension": ".py",
   "mimetype": "text/x-python",
   "name": "python",
   "nbconvert_exporter": "python",
   "pygments_lexer": "ipython3",
   "version": "3.11.5"
  }
 },
 "nbformat": 4,
 "nbformat_minor": 5
}
